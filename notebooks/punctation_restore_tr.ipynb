{
 "cells": [
  {
   "cell_type": "code",
   "execution_count": null,
   "metadata": {},
   "outputs": [],
   "source": [
    "from transformers import pipeline\n",
    "import re\n",
    "\n",
    "pipe = pipeline(task=\"token-classification\", model=\"uygarkurt/bert-restore-punctuation-turkish\")\n",
    "\n",
    "sample_text = \"Çok sıradan bir sebebim var\"\n",
    "\n",
    "out = pipe(sample_text)\n",
    "\n",
    "print(out)\n"
   ]
  },
  {
   "cell_type": "code",
   "execution_count": null,
   "metadata": {},
   "outputs": [],
   "source": [
    "def restore_punctuation(text, model_output):\n",
    "    \"\"\"\n",
    "    Restores punctuation using character-level indexes from model output.\n",
    "    Handles agglutinative suffixes by checking for following suffix tokens.\n",
    "    \"\"\"\n",
    "    # Sort by start position to process in order\n",
    "    predictions = sorted(model_output, key=lambda x: x['start'])\n",
    "\n",
    "    # Convert to list for easier manipulation\n",
    "    result = list(text)\n",
    "    offset = 0  # Track how many characters we've inserted\n",
    "\n",
    "    i = 0\n",
    "    while i < len(predictions):\n",
    "        pred = predictions[i]\n",
    "\n",
    "        # Check if next token is a suffix\n",
    "        has_suffix = (i + 1 < len(predictions) and\n",
    "                      predictions[i + 1]['word'].startswith('##') and\n",
    "                      predictions[i + 1]['start'] == pred['end'])\n",
    "\n",
    "        # Skip if current token is a suffix\n",
    "        if pred['word'].startswith('##'):\n",
    "            i += 1\n",
    "            continue\n",
    "\n",
    "        # Only add punctuation if there's no suffix following\n",
    "        if not has_suffix:\n",
    "            insert_pos = pred['end'] + offset\n",
    "            punct = {\n",
    "                'PERIOD': '.',\n",
    "                'QUESTION_MARK': '?',\n",
    "                'COMMA': ','\n",
    "            }.get(pred['entity'])\n",
    "\n",
    "            if punct:\n",
    "                result.insert(insert_pos, punct)\n",
    "                offset += 1\n",
    "\n",
    "        i += 1\n",
    "\n",
    "    return ''.join(result)\n",
    "\n",
    "\n",
    "# Test the function\n",
    "sample_text = \"Bunu söylemek için mi geldin\"\n",
    "out = pipe(sample_text)\n",
    "restored_text = restore_punctuation(sample_text, out)\n",
    "print(restored_text)"
   ]
  },
  {
   "cell_type": "code",
   "execution_count": null,
   "metadata": {},
   "outputs": [],
   "source": [
    "sample_text = \"işlerimi bitirdim. Bunu söylemek için mi geldin?\"\n",
    "# Remove punctuation\n",
    "sample_text = re.sub(r'[^\\w\\s]', '', sample_text)\n",
    "out = pipe(sample_text)\n",
    "\n",
    "print(out)"
   ]
  }
 ],
 "metadata": {
  "kernelspec": {
   "display_name": "Python 3",
   "language": "python",
   "name": "python3"
  },
  "language_info": {
   "codemirror_mode": {
    "name": "ipython",
    "version": 3
   },
   "file_extension": ".py",
   "mimetype": "text/x-python",
   "name": "python",
   "nbconvert_exporter": "python",
   "pygments_lexer": "ipython3",
   "version": "3.11.4"
  }
 },
 "nbformat": 4,
 "nbformat_minor": 2
}
