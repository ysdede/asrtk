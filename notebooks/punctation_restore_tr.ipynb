{
 "cells": [
  {
   "cell_type": "code",
   "execution_count": 1,
   "metadata": {},
   "outputs": [
    {
     "name": "stdout",
     "output_type": "stream",
     "text": [
      "WARNING:tensorflow:From c:\\Python311\\Lib\\site-packages\\keras\\src\\losses.py:2976: The name tf.losses.sparse_softmax_cross_entropy is deprecated. Please use tf.compat.v1.losses.sparse_softmax_cross_entropy instead.\n",
      "\n",
      "[{'entity': 'COMMA', 'score': 0.6682326, 'index': 3, 'word': 'gidiyordu', 'start': 9, 'end': 18}, {'entity': 'COMMA', 'score': 0.5591094, 'index': 4, 'word': '##n', 'start': 18, 'end': 19}, {'entity': 'COMMA', 'score': 0.5128775, 'index': 9, 'word': 'değiliz', 'start': 39, 'end': 46}, {'entity': 'PERIOD', 'score': 0.63483, 'index': 11, 'word': 'bey', 'start': 56, 'end': 59}]\n"
     ]
    }
   ],
   "source": [
    "from transformers import pipeline\n",
    "\n",
    "pipe = pipeline(task=\"token-classification\", model=\"uygarkurt/bert-restore-punctuation-turkish\", device=\"cpu\")\n",
    "\n",
    "sample_text = \"Çok sıradan bir sebebim var\"\n",
    "\n",
    "out = pipe(sample_text)\n",
    "\n",
    "print(out)\n"
   ]
  },
  {
   "cell_type": "code",
   "execution_count": 4,
   "metadata": {},
   "outputs": [
    {
     "name": "stdout",
     "output_type": "stream",
     "text": [
      "38..68 derece olduğunu söylüyor... Yuvarlarsak 38,,,7 dereceymiş teta\n"
     ]
    }
   ],
   "source": [
    "def restore_punctuation(text, model_output):\n",
    "    \"\"\"\n",
    "    Restores punctuation using character-level indexes from model output.\n",

    "    Only inserts punctuation when prediction score is above 0.7 (70%).\n",
    "    Handles agglutinative suffixes, apostrophes, quotes, and Turkish punctuation rules.\n",
    "    \"\"\"\n",
    "    # Sort by start position to process in order\n",
    "    predictions = sorted(model_output, key=lambda x: x['start'])\n",
    "\n",
    "    # Convert to list for easier manipulation\n",
    "    result = list(text)\n",
    "    offset = 0  # Track how many characters we've inserted\n",
    "\n",
    "    i = 0\n",
    "    while i < len(predictions):\n",

    "        current_pred = predictions[i]\n",
    "        \n",
    "        # Skip predictions with low confidence\n",
    "        if current_pred['score'] < 0.85:\n",
    "            i += 1\n",
    "            continue\n",
    "        \n",
    "        # Skip if current token is a suffix or part of apostrophe/quote\n",
    "        if (current_pred['word'].startswith('##') or\n",
    "            current_pred['word'] in [\"'\", '\"'] or\n",
    "            (i > 0 and predictions[i-1]['word'] in [\"'\", '\"'])):\n",
    "            i += 1\n",
    "            continue\n",
    "\n",
    "        # Find the last part of the current word\n",
    "        last_pos = i\n",
    "        while last_pos + 1 < len(predictions):\n",
    "            next_pred = predictions[last_pos + 1]\n",
    "            if (next_pred['word'].startswith('##') or\n",
    "                next_pred['start'] == predictions[last_pos]['end']):\n",
    "                last_pos += 1\n",
    "            else:\n",
    "                break\n",
    "\n",
    "        # Only process punctuation if this is the last token of a word\n",
    "        if current_pred['entity'] in ['PERIOD', 'QUESTION_MARK', 'COMMA']:\n",
    "            # Get the position after the complete word\n",
    "            insert_pos = predictions[last_pos]['end'] + offset\n",
    "            \n",
    "            # Skip if current token is a suffix - let the main token handle punctuation\n",
    "            if current_pred['word'].startswith('##'):\n",
    "                i = last_pos + 1\n",
    "                continue\n",
    "\n",
    "            # Don't insert punctuation in the middle of a word with apostrophe/quote\n",
    "            if (insert_pos < len(result) and\n",
    "                (result[insert_pos] in [\"'\", '\"'] or\n",
    "                 (insert_pos > 0 and result[insert_pos-1] in [\"'\", '\"']))):\n",
    "                i = last_pos + 1\n",
    "                continue\n",
    "\n",
    "            # For comma, check if there's a space after the insertion point\n",
    "            if (current_pred['entity'] == 'COMMA' and\n",
    "                insert_pos < len(result) - 1 and\n",
    "                not result[insert_pos].isspace()):\n",
    "                i = last_pos + 1\n",
    "                continue\n",
    "\n",
    "            # Check if there's already a punctuation mark\n",
    "            if (insert_pos < len(result) and\n",
    "                result[insert_pos] in ['.', ',', '?']):\n",
    "                # Replace existing punctuation\n",
    "                punct = {\n",
    "                    'PERIOD': '.',\n",
    "                    'QUESTION_MARK': '?',\n",
    "                    'COMMA': ','\n",
    "                }[current_pred['entity']]\n",
    "                result[insert_pos] = punct\n",
    "            else:\n",
    "                # Check for existing punctuation in surrounding positions\n",
    "                has_punct_before = (insert_pos > 0 and\n",
    "                                  result[insert_pos - 1] in ['.', ',', '?'])\n",
    "                has_punct_after = (insert_pos < len(result) and\n",
    "                                 result[insert_pos] in ['.', ',', '?'])\n",
    "                has_quote_after = (insert_pos < len(result) and\n",
    "                                 result[insert_pos] == '\"')\n",
    "\n",
    "                # Skip if there's already punctuation nearby or quote after\n",
    "                if has_punct_before or has_punct_after or has_quote_after:\n",
    "                    i = last_pos + 1\n",
    "                    continue\n",
    "\n",
    "                # Insert new punctuation if no existing punctuation nearby\n",
    "                punct = {\n",
    "                    'PERIOD': '.',\n",
    "                    'QUESTION_MARK': '?',\n",
    "                    'COMMA': ','\n",
    "                }[current_pred['entity']]\n",
    "                result.insert(insert_pos, punct)\n",
    "                offset += 1\n",
    "\n",
    "        i = last_pos + 1\n",
    "\n",
    "    return ''.join(result)"

   ]
  },
  {
   "cell_type": "code",
   "execution_count": 5,
   "metadata": {},
   "outputs": [
    {
     "name": "stdout",
     "output_type": "stream",
     "text": [

      "Time taken: 0.05 seconds\n",
      "[{'entity': 'PERIOD', 'score': 0.95676047, 'index': 5, 'word': 'söylüyor', 'start': 21, 'end': 29}, {'entity': 'COMMA', 'score': 0.47004408, 'index': 12, 'word': 'derece', 'start': 46, 'end': 52}, {'entity': 'COMMA', 'score': 0.54805917, 'index': 13, 'word': '##ym', 'start': 52, 'end': 54}, {'entity': 'COMMA', 'score': 0.48716187, 'index': 14, 'word': '##iş', 'start': 54, 'end': 56}, {'entity': 'PERIOD', 'score': 0.91442615, 'index': 15, 'word': 'te', 'start': 57, 'end': 59}, {'entity': 'PERIOD', 'score': 0.94705576, 'index': 16, 'word': '##ta', 'start': 59, 'end': 61}]\n"

     ]
    }
   ],
   "source": [

    "sample_text = \"\"\"\n",
    "Sen kaça gidiyorsun Hiçbirimiz satılık değiliz öğretmen bey\n",
    "\"\"\"\n",

    "# Remove punctuation\n",
    "sample_text = re.sub(r'[^\\w\\s]', '', sample_text)\n",
    "import time\n",
    "start_time = time.time()\n",
    "out = pipe(sample_text)\n",
    "end_time = time.time()\n",
    "print(f\"Time taken: {end_time - start_time:.2f} seconds\")\n",
    "\n",

    "restored_text = restore_punctuation(sample_text, out)\n",
    "print(out)\n",
    "\n",
    "print(restored_text)\n"

   ]
  }
 ],
 "metadata": {
  "kernelspec": {
   "display_name": "Python 3",
   "language": "python",
   "name": "python3"
  },
  "language_info": {
   "codemirror_mode": {
    "name": "ipython",
    "version": 3
   },
   "file_extension": ".py",
   "mimetype": "text/x-python",
   "name": "python",
   "nbconvert_exporter": "python",
   "pygments_lexer": "ipython3",
   "version": "3.11.4"
  }
 },
 "nbformat": 4,
 "nbformat_minor": 2
}
