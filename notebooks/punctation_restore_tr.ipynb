{
 "cells": [
  {
   "cell_type": "code",
   "execution_count": 1,
   "metadata": {},
   "outputs": [
    {
     "name": "stdout",
     "output_type": "stream",
     "text": [
      "WARNING:tensorflow:From c:\\Python311\\Lib\\site-packages\\keras\\src\\losses.py:2976: The name tf.losses.sparse_softmax_cross_entropy is deprecated. Please use tf.compat.v1.losses.sparse_softmax_cross_entropy instead.\n",
      "\n",
      "[{'entity': 'PERIOD', 'score': 0.9830124, 'index': 6, 'word': 'var', 'start': 24, 'end': 27}]\n"
     ]
    }
   ],
   "source": [
    "from transformers import pipeline\n",
    "import re\n",
    "\n",
    "pipe = pipeline(task=\"token-classification\", model=\"uygarkurt/bert-restore-punctuation-turkish\", device=\"cpu\")\n",
    "\n",
    "sample_text = \"Çok sıradan bir sebebim var\"\n",
    "\n",
    "out = pipe(sample_text)\n",
    "\n",
    "print(out)\n"
   ]
  },
  {
   "cell_type": "code",
   "execution_count": 4,
   "metadata": {},
   "outputs": [
    {
     "name": "stdout",
     "output_type": "stream",
     "text": [
      "38..68 derece olduğunu söylüyor... Yuvarlarsak 38,,,7 dereceymiş teta\n"
     ]
    }
   ],
   "source": [
    "def restore_punctuation(text, model_output):\n",
    "    \"\"\"\n",
    "    Restores punctuation using character-level indexes from model output.\n",
    "    Handles agglutinative suffixes by checking for following suffix tokens.\n",
    "    \"\"\"\n",
    "    # Sort by start position to process in order\n",
    "    predictions = sorted(model_output, key=lambda x: x['start'])\n",
    "\n",
    "    # Convert to list for easier manipulation\n",
    "    result = list(text)\n",
    "    offset = 0  # Track how many characters we've inserted\n",
    "\n",
    "    i = 0\n",
    "    while i < len(predictions):\n",
    "        pred = predictions[i]\n",
    "\n",
    "        # Check if next token is a suffix\n",
    "        has_suffix = (i + 1 < len(predictions) and\n",
    "                      predictions[i + 1]['word'].startswith('##') and\n",
    "                      predictions[i + 1]['start'] == pred['end'])\n",
    "\n",
    "        # Skip if current token is a suffix\n",
    "        if pred['word'].startswith('##'):\n",
    "            i += 1\n",
    "            continue\n",
    "\n",
    "        # Only add punctuation if there's no suffix following\n",
    "        if not has_suffix:\n",
    "            insert_pos = pred['end'] + offset\n",
    "            punct = {\n",
    "                'PERIOD': '.',\n",
    "                'QUESTION_MARK': '?',\n",
    "                'COMMA': ','\n",
    "            }.get(pred['entity'])\n",
    "\n",
    "            if punct:\n",
    "                result.insert(insert_pos, punct)\n",
    "                offset += 1\n",
    "\n",
    "        i += 1\n",
    "\n",
    "    return ''.join(result)\n",
    "\n",
    "\n",
    "# Test the function\n",
    "sample_text = \"38.68 derece olduğunu söylüyor. Yuvarlarsak 38,7 dereceymiş teta\"\n",
    "out = pipe(sample_text)\n",
    "restored_text = restore_punctuation(sample_text, out)\n",
    "print(restored_text)"
   ]
  },
  {
   "cell_type": "code",
   "execution_count": 5,
   "metadata": {},
   "outputs": [
    {
     "name": "stdout",
     "output_type": "stream",
     "text": [
      "Time taken: 0.05 seconds\n",
      "[{'entity': 'PERIOD', 'score': 0.95676047, 'index': 5, 'word': 'söylüyor', 'start': 21, 'end': 29}, {'entity': 'COMMA', 'score': 0.47004408, 'index': 12, 'word': 'derece', 'start': 46, 'end': 52}, {'entity': 'COMMA', 'score': 0.54805917, 'index': 13, 'word': '##ym', 'start': 52, 'end': 54}, {'entity': 'COMMA', 'score': 0.48716187, 'index': 14, 'word': '##iş', 'start': 54, 'end': 56}, {'entity': 'PERIOD', 'score': 0.91442615, 'index': 15, 'word': 'te', 'start': 57, 'end': 59}, {'entity': 'PERIOD', 'score': 0.94705576, 'index': 16, 'word': '##ta', 'start': 59, 'end': 61}]\n"
     ]
    }
   ],
   "source": [
    "sample_text = \"38.68 derece olduğunu söylüyor. Yuvarlarsa.k 38,7 dereceymiş teta.\"\n",
    "# Remove punctuation\n",
    "sample_text = re.sub(r'[^\\w\\s]', '', sample_text)\n",
    "import time\n",
    "start_time = time.time()\n",
    "out = pipe(sample_text)\n",
    "end_time = time.time()\n",
    "print(f\"Time taken: {end_time - start_time:.2f} seconds\")\n",
    "\n",
    "print(out)"
   ]
  }
 ],
 "metadata": {
  "kernelspec": {
   "display_name": "Python 3",
   "language": "python",
   "name": "python3"
  },
  "language_info": {
   "codemirror_mode": {
    "name": "ipython",
    "version": 3
   },
   "file_extension": ".py",
   "mimetype": "text/x-python",
   "name": "python",
   "nbconvert_exporter": "python",
   "pygments_lexer": "ipython3",
   "version": "3.11.4"
  }
 },
 "nbformat": 4,
 "nbformat_minor": 2
}
