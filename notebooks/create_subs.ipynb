{
 "cells": [
  {
   "cell_type": "code",
   "execution_count": 1,
   "metadata": {},
   "outputs": [
    {
     "name": "stderr",
     "output_type": "stream",
     "text": [
      "c:\\Users\\steam\\anaconda3\\envs\\whisperx32\\lib\\site-packages\\pyannote\\audio\\core\\io.py:43: UserWarning: torchaudio._backend.set_audio_backend has been deprecated. With dispatcher enabled, this function is no-op. You can remove the function call.\n",
      "  torchaudio.set_audio_backend(\"soundfile\")\n",
      "c:\\Users\\steam\\anaconda3\\envs\\whisperx32\\lib\\site-packages\\torch_audiomentations\\utils\\io.py:27: UserWarning: torchaudio._backend.set_audio_backend has been deprecated. With dispatcher enabled, this function is no-op. You can remove the function call.\n",
      "  torchaudio.set_audio_backend(\"soundfile\")\n",
      "INFO:speechbrain.utils.quirks:Applied quirks (see `speechbrain.utils.quirks`): [allow_tf32, disable_jit_profiling]\n",
      "INFO:speechbrain.utils.quirks:Excluded quirks specified by the `SB_DISABLE_QUIRKS` environment (comma-separated list): []\n",
      "Lightning automatically upgraded your loaded checkpoint from v1.5.4 to v2.0.3. To apply the upgrade to your files permanently, run `python -m pytorch_lightning.utilities.upgrade_checkpoint --file c:\\Users\\steam\\anaconda3\\envs\\whisperx32\\lib\\site-packages\\whisperx\\assets\\pytorch_model.bin`\n"
     ]
    },
    {
     "name": "stdout",
     "output_type": "stream",
     "text": [
      "Model was trained with pyannote.audio 0.0.1, yours is 3.1.1. Bad things might happen unless you revert pyannote.audio to 0.x.\n",
      "Model was trained with torch 1.10.0+cu102, yours is 2.5.1+cu121. Bad things might happen unless you revert torch to 1.x.\n"
     ]
    }
   ],
   "source": [
    "import whisperx\n",
    "import json\n",
    "import time\n",
    "from pathlib import Path\n",
    "\n",
    "SAMPLE_RATE = 16000  # Sample rate in Hz\n",
    "\n",
    "device = \"cuda\"\n",
    "batch_size = 1  # reduce if low on GPU mem\n",
    "compute_type = \"int8\"  # change to \"int8\" if low on GPU mem (may reduce accuracy)\n",
    "# compute_type = \"float32\"\n",
    "\n",
    "asr_options = {\n",
    "    # \"temperatures\": 0.0,\n",
    "    \"beam_size\": 5,\n",
    "    \"condition_on_previous_text\": False,\n",
    "    # \"initial_prompt\": \"\"\n",
    "    # \"hotwords\": None,\n",
    "    # \"multilingual\": False,\n",
    "}\n",
    "\n",
    "model = whisperx.load_model(\"N:/models/faster/ysdede/whisper-khanacademy-large-v3-turbo-tr\", device, compute_type=compute_type, download_root=\"n:\\\\whisperx_models\", language=\"tr\", asr_options=asr_options)\n"
   ]
  },
  {
   "cell_type": "code",
   "execution_count": 6,
   "metadata": {},
   "outputs": [
    {
     "name": "stdout",
     "output_type": "stream",
     "text": [
      "{'segments': [{'text': \" Ekonomi dünyasındaki yolculuğumuza gelmiş geçmiş en ünlü ekonomistlerden birisi olan İskoç filozof Adam Smith'ten bir alıntı yaparak başlamak istedim. Kendisi günümüzdeki ekonomist tanımına uyan ilk bilim adamı. Bu sözlerini 1776 yılında yayınlanmış olan Dünyaca Ünlü Ulusların Zenginliği isimli kitabından aldım.\", 'start': 0.009, 'end': 21.288}, {'text': ' Her birey bir ekonomik aktördür ve toplumun çıkarını gözetmediği gibi, kendisinin topluma ne kadar faydası olduğunu da bilmez. Kontrolünde olan piyasayı yönlendirirken, kendi ürettiklerinin en yüksek değere ulaşmasını hedefler ve sadece kendi çıkarlarını gözetir.', 'start': 22.79, 'end': 39.258}, {'text': ' Her birey kendi çıkarı peşinde koşarken, sıklıkla ve adeta görünmez bir el değmişçesine katkıda bulunmaya niyetlendiğinden çok daha etkin olarak topluma katkıda bulunur. \"Rekabetin görünmez eli, kişisel çıkarları kendiliğinden ortak yarara dönüştürmektedir.\" diyor. Görünmez el kavramı çok ünlüdür.', 'start': 40.776, 'end': 62.176}, {'text': ' Diyor ki, kişiler sadece kendi çıkarlarını gözetiyor olsalar da rekabetin görünmez eli kişisel çıkarları ortak yarara dönüştürüyor. Rekabet kötü bir şey değil. Kendi çıkarınızı gözetirken aslında toplumun bütünü için de iyilik yapmış oluyorsunuz. Bu son derece kuvvetli, çok iddialı bir söylem. Kapitalizmin özü.', 'start': 63.49, 'end': 85.674}, {'text': \" 'Ulusların Zenginliği' kitabı ve Amerikan Özgürlük Bildirgesi aynı yıl yayınlanıyor. Ve tabiatıyla, tahmin edeceğiniz gibi, bu kitapta yer alan ve kapitalizmin temel ilkeleri sayılabilecek fikirler, Amerika'nın kurucuları, özgürlük bildirgesi, anayasa, demokratik bir ülke olmanın koşulları, vatandaşlık hakları gibi konular üzerinde çalışırken onlar üzerinde oldukça etkili oluyor.\", 'start': 86.408, 'end': 109.258}, {'text': ' Ekonomik aktörlerin aslında kendi çıkarlarını gözeterek gösterdikleri bireysel çabalar, sıklıkla bütün toplumun refahının artması için de yararlı oluyor. Adam Smith, birisinin her zaman sadece kendi çıkarlarını gözetmesi iyidir demiyor.', 'start': 109.258, 'end': 125.418}, {'text': ' Bireysel hareketlerinin toplumu nasıl etkileyeceğini düşünmeleri kötüdür de demiyor. Kişilerin kendi çıkarlarını gözeterek yaptığı çabaların, sıklıkla toplumun tamamı için yararlı olacağını, yani toplumdaki yaratıcılığı, verimliliği olumlu yönde etkileyerek zenginliğin artacağını belirtiyor.', 'start': 125.418, 'end': 143.712}, {'text': \" Günümüzde ekonomiden bahsederken, genelde mikroekonomi veya makroekonomi tanımları kullanılır. Adam Smith'in söylemi, hem mikroekonomiyi, yani kendi çıkarlarını maksimize etmek için uğraşan ekonomik aktörleri, hem de makroekonomiyi, yani toplumun bütününü kapsıyor.\", 'start': 144.531, 'end': 162.944}, {'text': 'Genelde günümüzdeki ekonomistler bu iki alandan sadece birisine yoğunlaşıyorlar, mikro düzeyde, yani ekonomik aktörlerin bireysel faaliyetlerine veya makroekonomiye, yani ekonominin bir bütün olarak genel görünümü üzerine uzmanlaşıyorlar.', 'start': 163.712, 'end': 179.258}, {'text': ' Mikroekonomide, örneğin, ekonomik aktörlerin sınırlı kaynakları ne şekilde tahsis edeceği üzerinde duruluyor. Sınırlı kaynak dediğimizde sonsuz olmayan kaynak demek. Yiyecek, su, zaman, para, işgücü, bunlar sınırlı kaynaklar. Mikroekonomide, kişilerin bu sınırlı kaynakları tahsis ederken etkilendiği fiyat ve diğer benzeri koşullar inceleniyor.', 'start': 180.299, 'end': 206.049}, {'text': \" Makroekonomi ise resmin bütününe bakıyor, örneğin vergiler, istihdam gibi milyonlarca ekonomik aktörün tamamını etkileyen konularla ilgileniyor. Haklısınız, modern ekonomiyi düşündüğünüzde aklımıza hemen matematiksel hesaplamalar gelir, ama işin temeli Adam Smith'inkiler gibi felsefi düşüncelere dayanıyor.\", 'start': 206.169, 'end': 226.834}, {'text': ' Bazı konuları daha rahat ele alabilmek için basitleştiririz. Basitleştirir ve matematiksel olarak çözüme gitmeye çalışırız. Konuyu rakamlara dökmek, grafiklere veya tablolara bakarak daha iyi karar verebilmemizi sağlar. Ama varsayımlarda yapacağımız hatalar veya konuyu fazla basite indirgemiş olmamız bizi hatalı sonuçlara götürebilir. Dolayısıyla matematiksel olarak kanıtlanmış konuları dahi akıl süzgecinden geçirmekte fayda var.', 'start': 228.439, 'end': 256.51}, {'text': ' Örneğin, tüm insanlar mantıklı varlıklardır, her birey kendi çıkarlarını gözetir ve kendi menfaatlerini maksimize etmeye çalışır diye varsayımlarda bulunabilirsiniz. Ama unutmayın, insanlar karar verirken pek çok değişik şeyden etkilenebilirler.', 'start': 257.5, 'end': 272.654}, {'text': ' Mikroekonomide, insan beyni gibi son derece karmaşık bir şeyi alıp, bu ekonomik aktörlerin hangi koşullar altında nasıl davranacağını, birbirlerini nasıl etkileyeceklerini anlamaya çalışıyor, sonra da bunu makro düzeyde milyonlarca ekonomik birey için bir olgu haline getirmeye çalışıyorsunuz.', 'start': 272.654, 'end': 290.623}, {'text': \" Bunu yaparken de pek çok varsayım kullanmak zorundasınız. Son derece zor bir iş yani. Matematiksel modeller sonuçlara varabilmek veya tahmin yapabilmek için çok önemli. Ama yine de işin içinde insan faktörü ve pek çok varsayım olduğu için yanılma payı olabileceğini gözden kaçırmamak lazım. Bu videoyu bitirmeden önce size iki alıntı daha okumak istiyorum. Birincisi Alfred Knopf'un sözleri. 1900'lerde yayınlamışlar.\", 'start': 291.169, 'end': 320.094}, {'text': \" Ekonomist, sari olanı anlaşılmaz terimlerle anlatan kişidir, diyor. Sanırım ekonomistlerin kullandığı matematiksel modellerden ve finansal terimlerden bahsediyor. İkinci alıntı ise USC, yani Güney Kaliforniya Üniversitesi profesörü Lawrence J. Peter'a ait.\", 'start': 320.93, 'end': 338.814}, {'text': ' \"Ekonomist, dün tahmin ettiklerinin bugün niçin gerçekleşmediğini yarın bilecek olan kişidir.\" demiş. Güzel demiş. Özellikle makroekonomide, ekonominin genel durumunu tahmin ederken pek çok varsayım kullanılır ve bu varsayımların önemli kısmı da doğru çıkmaz. Ekonomi matematikle çok yakından bağlantılıdır, ama işin içinde insan faktörü de olduğu için diğer bilimlerde olduğu gibi her zaman kesin sonuçlar öngöremezsiniz.', 'start': 340.247, 'end': 368.729}], 'language': 'tr'}\n"
     ]
    }
   ],
   "source": [
    "def transcribe(audio_path):\n",
    "    \n",
    "    audio = whisperx.load_audio(audio_path)\n",
    "    return model.transcribe(audio, batch_size=batch_size, print_progress=False, language=\"tr\")\n",
    "\n",
    "\n",
    "\n",
    "input_audio = r\"n:\\dataset_v4\\khanacademy_subs\\Ekonomiye Giriş (İktisat) (Mikroekonomi) (Makroekonomi) [AJjI5VHT4YA].mp4\"\n",
    "\n",
    "res = transcribe(input_audio)\n",
    "print(res)"
   ]
  }
 ],
 "metadata": {
  "kernelspec": {
   "display_name": "whisperx32",
   "language": "python",
   "name": "python3"
  },
  "language_info": {
   "codemirror_mode": {
    "name": "ipython",
    "version": 3
   },
   "file_extension": ".py",
   "mimetype": "text/x-python",
   "name": "python",
   "nbconvert_exporter": "python",
   "pygments_lexer": "ipython3",
   "version": "3.10.11"
  }
 },
 "nbformat": 4,
 "nbformat_minor": 2
}
