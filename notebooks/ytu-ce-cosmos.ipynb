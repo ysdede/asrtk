{
 "cells": [
  {
   "cell_type": "code",
   "execution_count": 2,
   "metadata": {},
   "outputs": [
    {
     "data": {
      "application/vnd.jupyter.widget-view+json": {
       "model_id": "0e10eaf24caf459092d25f523e2a24b3",
       "version_major": 2,
       "version_minor": 0
      },
      "text/plain": [
       "tokenizer_config.json:   0%|          | 0.00/1.33k [00:00<?, ?B/s]"
      ]
     },
     "metadata": {},
     "output_type": "display_data"
    },
    {
     "data": {
      "application/vnd.jupyter.widget-view+json": {
       "model_id": "0181d72ae7bc42268447d710ad7e7ccf",
       "version_major": 2,
       "version_minor": 0
      },
      "text/plain": [
       "vocab.txt:   0%|          | 0.00/295k [00:00<?, ?B/s]"
      ]
     },
     "metadata": {},
     "output_type": "display_data"
    },
    {
     "data": {
      "application/vnd.jupyter.widget-view+json": {
       "model_id": "0c08c57fdc27492aa240bf83bb8e923d",
       "version_major": 2,
       "version_minor": 0
      },
      "text/plain": [
       "special_tokens_map.json:   0%|          | 0.00/132 [00:00<?, ?B/s]"
      ]
     },
     "metadata": {},
     "output_type": "display_data"
    },
    {
     "name": "stdout",
     "output_type": "stream",
     "text": [
      "Geçen hafta sonu arkadaşlarımla birlikte kısa bir tatile çıktık. Cuma akşamı yola çıktık. Yolculuk oldukça keyifli geçti. Cumartesi sabahı otele vardık. Odalarımıza yerleştikten sonra kahvaltıya indik. Kahvaltıda birçok seçenek vardı; omlet, simit, taze sıkılmış portakal suyu ve çeşitli peynirler. Kahvaltıdan sonra sahile gitmeye karar verdik. Deniz çok sakindi ve hava mükemmeldi. Denizde yüzdük, kumda yürüdük ve güneşlendik. Öğleden sonra şehri gezmeye çıktık. Tarihi yerleri ziyaret ettik ve bol bol fotoğraf çektik. Akşam yemeği için meşhur bir restorana gittik. Deniz ürünleri gerçekten çok tazeydi. Yemek sonrası otele döndüğümüzde çok yorgunduk ama tatilin ilk günü harika geçmişti. Pazar sabahı erken kalkıp bir doğa yürüyüşüne çıktık. Orman içinde yürümek çok huzur vericiydi. Dönüş yolunda biraz trafik vardı ama bu güzel tatilin ardından hiçbiri moralimizi bozamazdı. Eve vardığımızda herkes mutlu ve huzurluydu. Bir sonraki tatili planlamaya başladık bile. \n"
     ]
    }
   ],
   "source": [
    "from transformers import pipeline, AutoTokenizer, BertForTokenClassification\n",
    "\n",
    "\n",
    "def preprocess(text):\n",
    "    noktalama_isaretleri = ['!', '?', '.', ',', '-', ':', ';', \"'\"]\n",
    "    new_text = \"\".join(\n",
    "        [char for char in text if char in noktalama_isaretleri or char.isalnum() or char.isspace()])\n",
    "    new_text_Pure = \"\".join([char for char in text if char.isalnum(\n",
    "    ) or char.isspace() or char == \"'\" or char == \"-\"])\n",
    "    new_text_Pure = new_text_Pure.replace(\"'\", \" \").replace(\"-\", \" \")\n",
    "    new_text = new_text_Pure.replace(\"I\", \"ı\").lower()\n",
    "    return new_text\n",
    "\n",
    "\n",
    "def end2end(sent, capitalization_corr, punc_corr):\n",
    "\n",
    "    p_sent = preprocess(sent)\n",
    "\n",
    "    r1 = capitalization_corr(p_sent)\n",
    "    r2 = punc_corr(p_sent)\n",
    "\n",
    "    tokenized_sent = tokenizer.tokenize(p_sent)\n",
    "\n",
    "    final_sent = ''\n",
    "\n",
    "    i = 0\n",
    "\n",
    "    while i < len(tokenized_sent):\n",
    "        token = tokenized_sent[i]\n",
    "        if r1[i]['entity'] == 'one':\n",
    "            token = token.capitalize()\n",
    "        elif r1[i]['entity'] == 'cap':\n",
    "            token = token.upper()\n",
    "            while tokenized_sent[i+1].startswith(\"##\"):\n",
    "                token += tokenized_sent[i+1][2:].upper()\n",
    "                i += 1\n",
    "\n",
    "        if r2[i]['entity'] != 'non':\n",
    "            token += r2[i]['entity']\n",
    "\n",
    "        if r2[i]['entity'] != \"'\":\n",
    "            token += ' '\n",
    "\n",
    "        final_sent += token\n",
    "        i += 1\n",
    "\n",
    "    final_sent = final_sent.replace(' ##', '')\n",
    "\n",
    "    # print(final_sent)\n",
    "\n",
    "    return final_sent\n",
    "\n",
    "\n",
    "cap_model = BertForTokenClassification.from_pretrained(\n",
    "    \"ytu-ce-cosmos/turkish-base-bert-capitalization-correction\")\n",
    "punc_model = BertForTokenClassification.from_pretrained(\n",
    "    \"ytu-ce-cosmos/turkish-base-bert-punctuation-correction\")\n",
    "\n",
    "tokenizer = AutoTokenizer.from_pretrained(\n",
    "    \"ytu-ce-cosmos/turkish-base-bert-capitalization-correction\")\n",
    "\n",
    "\n",
    "capitalization_corr = pipeline(\"ner\", model=cap_model, tokenizer=tokenizer)\n",
    "punc_corr = pipeline(\"ner\", model=punc_model, tokenizer=tokenizer)\n",
    "\n",
    "# sent = \"toplantı saat 9 da başlayacak ancak çoğu kişi gecikebilir\"\n",
    "\n",
    "sent = \"\"\"\n",
    "geçen hafta sonu arkadaşlarımla birlikte kısa bir tatile çıktık cuma akşamı yola çıktık yolculuk oldukça keyifli geçti cumartesi sabahı otele vardık odalarımıza yerleştikten sonra kahvaltıya indik kahvaltıda birçok seçenek vardı omlet simit taze sıkılmış portakal suyu ve çeşitli peynirler kahvaltıdan sonra sahile gitmeye karar verdik deniz çok sakindi ve hava mükemmeldi denizde yüzdük kumda yürüdük ve güneşlendik öğleden sonra şehri gezmeye çıktık tarihi yerleri ziyaret ettik ve bol bol fotoğraf çektik akşam yemeği için meşhur bir restorana gittik deniz ürünleri gerçekten çok tazeydi yemek sonrası otele döndüğümüzde çok yorgunduk ama tatilin ilk günü harika geçmişti pazar sabahı erken kalkıp bir doğa yürüyüşüne çıktık orman içinde yürümek çok huzur vericiydi dönüş yolunda biraz trafik vardı ama bu güzel tatilin ardından hiçbiri moralimizi bozamazdı eve vardığımızda herkes mutlu ve huzurluydu bir sonraki tatili planlamaya başladık bile\n",
    "\"\"\"\n",
    "\n",
    "print(end2end(sent, capitalization_corr, punc_corr))\n",
    "# Geçen hafta sonu arkadaşlarımla birlikte kısa bir tatile çıktık. Cuma akşamı yola çıktık. Yolculuk oldukça keyifli geçti. Cumartesi sabahı otele vardık. Odalarımıza yerleştikten sonra kahvaltıya indik. Kahvaltıda birçok seçenek vardı; omlet, simit, taze sıkılmış portakal suyu ve çeşitli peynirler. Kahvaltıdan sonra sahile gitmeye karar verdik. Deniz çok sakindi ve hava mükemmeldi. Denizde yüzdük, kumda yürüdük ve güneşlendik. Öğleden sonra şehri gezmeye çıktık. Tarihi yerleri ziyaret ettik ve bol bol fotoğraf çektik. Akşam yemeği için meşhur bir restorana gittik. Deniz ürünleri gerçekten çok tazeydi. Yemek sonrası otele döndüğümüzde çok yorgunduk ama tatilin ilk günü harika geçmişti. Pazar sabahı erken kalkıp bir doğa yürüyüşüne çıktık. Orman içinde yürümek çok huzur vericiydi. Dönüş yolunda biraz trafik vardı ama bu güzel tatilin ardından hiçbiri moralimizi bozamazdı. Eve vardığımızda herkes mutlu ve huzurluydu. Bir sonraki tatili planlamaya başladık bile.\n"
   ]
  },
  {
   "cell_type": "code",
   "execution_count": 8,
   "metadata": {},
   "outputs": [
    {
     "name": "stdout",
     "output_type": "stream",
     "text": [
      "Dördüncü dersimiz arkadaşlar ve eğlenceyi hayatından çıkarma. \n"
     ]
    }
   ],
   "source": [
    "sent = \"\"\"\n",
    "Dördüncü dersimiz, arkadaşlar ve eğlenceyi hayatından çıkarma\n",
    "\"\"\"\n",
    "\n",
    "print(end2end(sent, capitalization_corr, punc_corr))"
   ]
  }
 ],
 "metadata": {
  "kernelspec": {
   "display_name": "Python 3",
   "language": "python",
   "name": "python3"
  },
  "language_info": {
   "codemirror_mode": {
    "name": "ipython",
    "version": 3
   },
   "file_extension": ".py",
   "mimetype": "text/x-python",
   "name": "python",
   "nbconvert_exporter": "python",
   "pygments_lexer": "ipython3",
   "version": "3.11.4"
  }
 },
 "nbformat": 4,
 "nbformat_minor": 2
}
